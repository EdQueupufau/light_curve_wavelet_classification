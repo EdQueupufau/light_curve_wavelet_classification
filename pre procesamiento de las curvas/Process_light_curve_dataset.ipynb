{
  "cells": [
    {
      "cell_type": "code",
      "execution_count": null,
      "id": "PHq-FOSZyWap",
      "metadata": {
        "id": "PHq-FOSZyWap"
      },
      "outputs": [],
      "source": [
        "!pip install lightkurve==2.0.11\n",
        "!pip install PyWavelets"
      ]
    },
    {
      "cell_type": "code",
      "execution_count": null,
      "id": "3f23a54d",
      "metadata": {
        "id": "3f23a54d"
      },
      "outputs": [],
      "source": [
        "import pandas as pd\n",
        "import lightkurve as lk\n",
        "import numpy as np\n",
        "import pywt\n",
        "import pickle\n",
        "import os\n",
        "# import mathplotlib\n",
        "import matplotlib.pyplot as plt\n",
        "%matplotlib inline"
      ]
    },
    {
      "cell_type": "code",
      "execution_count": null,
      "id": "4ead2c88",
      "metadata": {
        "id": "4ead2c88"
      },
      "outputs": [],
      "source": [
        "print(lk.__version__)\n",
        "is_colab = False"
      ]
    },
    {
      "cell_type": "code",
      "execution_count": null,
      "id": "nrOANxb9Ft2A",
      "metadata": {
        "id": "nrOANxb9Ft2A"
      },
      "outputs": [],
      "source": [
        "print(pywt.__version__)"
      ]
    },
    {
      "cell_type": "code",
      "execution_count": null,
      "id": "8TdxE-Set5Yh",
      "metadata": {
        "id": "8TdxE-Set5Yh"
      },
      "outputs": [],
      "source": [
        "from google.colab import drive\n",
        "drive.mount('/content/drive')"
      ]
    },
    {
      "cell_type": "code",
      "execution_count": null,
      "id": "d4faf824",
      "metadata": {
        "id": "d4faf824"
      },
      "outputs": [],
      "source": [
        "df = pd.read_csv('/content/drive/MyDrive/MASTER IA (Unir)/TFM/light_curves_K_stars_filter.csv')"
      ]
    },
    {
      "cell_type": "code",
      "execution_count": null,
      "id": "MV1a1p4V4pad",
      "metadata": {
        "id": "MV1a1p4V4pad"
      },
      "outputs": [],
      "source": [
        "df"
      ]
    },
    {
      "cell_type": "code",
      "execution_count": null,
      "id": "6990a68c",
      "metadata": {
        "id": "6990a68c"
      },
      "outputs": [],
      "source": [
        "# parametros para la ejecucion\n",
        "wavelet_family='sym5'\n",
        "level = 9\n",
        "save_lc = True\n",
        "save_path = '/content/drive/MyDrive/MASTER IA (Unir)/TFM/waveletsG/'\n",
        "kep_id = 10583180\n",
        "kep_id_2 =9021075\n",
        "wavelet_windows = 15000"
      ]
    },
    {
      "cell_type": "code",
      "execution_count": null,
      "id": "o4h0u7cmV2oN",
      "metadata": {
        "id": "o4h0u7cmV2oN"
      },
      "outputs": [],
      "source": [
        "completed = os.listdir(save_path)\n",
        "if 'errors.txt' in completed:\n",
        "  completed.remove('errors.txt')\n",
        "completed_id = []\n",
        "for element in completed:\n",
        "  completed_id.append(element.replace('.pickle','').replace('kic ',''))\n",
        "len(completed_id)"
      ]
    },
    {
      "cell_type": "code",
      "execution_count": null,
      "id": "0898e9f8",
      "metadata": {
        "id": "0898e9f8"
      },
      "outputs": [],
      "source": [
        "period,epoch,disp=df[df['kepid']==kep_id][['koi_period','koi_time0bk','koi_disposition']].iloc[0]\n",
        "period_2,epoch_2,disp_2=df[df['kepid']==kep_id_2][['koi_period','koi_time0bk','koi_disposition']].iloc[0]\n",
        "print(period, epoch,disp)"
      ]
    },
    {
      "cell_type": "code",
      "execution_count": null,
      "id": "bbf9b665",
      "metadata": {
        "id": "bbf9b665"
      },
      "outputs": [],
      "source": [
        "class LightCurveWaveletFoldCollection():\n",
        "  \n",
        "    def __init__(self,light_curve,wavelets):\n",
        "        self._light_curve = light_curve\n",
        "        self._lc_w_collection = wavelets\n",
        "\n",
        "    def get_detail_coefficent(self,level = None):\n",
        "        if level != None:\n",
        "            return self._lc_w_collection[level-1][1]\n",
        "        return self._lc_w_collection[:][1]\n",
        "\n",
        "    def get_approximation_coefficent(self,level = None):\n",
        "        if level != None:\n",
        "            return self._lc_w_collection[level-1][0]\n",
        "        return self._lc_w_collection[:][0]\n",
        "    \n",
        "    def get_wavelets(self):\n",
        "        return self._lc_w_collection\n",
        "\n",
        "    def plot(self):\n",
        "        \"\"\"\n",
        "        imprime el detalle de las wavelets sobre la curva de luz.\n",
        "        Parameters\n",
        "        ----------\n",
        "        None\n",
        "        Returns\n",
        "        ----------\n",
        "        None.\n",
        "        \"\"\"\n",
        "        wavelet = self._lc_w_collection\n",
        "        time = self._light_curve.time.value\n",
        "        data = self._light_curve.flux.value\n",
        "        plt.figure(figsize=(16, 4))\n",
        "        plt.plot(time,data)\n",
        "        ig, axarr = plt.subplots(nrows=len(wavelet), ncols=2, figsize=(16,12))\n",
        "        for i,lc_w in enumerate(wavelet):\n",
        "            (data, coeff_d) = lc_w\n",
        "            axarr[i, 0].plot(data, 'r')\n",
        "            axarr[i, 1].plot(coeff_d, 'g')\n",
        "            axarr[i, 0].set_ylabel(\"Level {}\".format(i + 1), fontsize=14, rotation=90)\n",
        "            axarr[i, 0].set_yticklabels([])\n",
        "            if i == 0:\n",
        "                axarr[i, 0].set_title(\"Approximation coefficients\", fontsize=14)\n",
        "                axarr[i, 1].set_title(\"Detail coefficients\", fontsize=14)\n",
        "            axarr[i, 1].set_yticklabels([])\n",
        "        plt.show()\n",
        "\n",
        "class LightCurveWaveletCollection():\n",
        "    def __init__(self,id,headers,lc_par,lc_inpar):\n",
        "        self.pliegue_par = lc_par\n",
        "        self.pliegue_inpar = lc_inpar\n",
        "        self.kepler_id = id\n",
        "        self.headers = headers\n",
        "\n",
        "    def save(self, path = \"\"):\n",
        "        \"\"\"\n",
        "        Metodo que guarda la curva luz procesada en un archivo.\n",
        "        Parameters\n",
        "        ----------\n",
        "        Path: str = \"\"\n",
        "          ruta donde se guardara el archivo.\n",
        "        Returns\n",
        "        ----------\n",
        "        None.\n",
        "        \"\"\"\n",
        "        file_name = path + 'kic '+str(self.kepler_id)+'-'+self.headers['Kepler_name']+'.pickle'\n",
        "        with open(file_name, \"wb\") as f:\n",
        "            pickle.dump(self, f)\n",
        "\n",
        "    def load(path):\n",
        "        \"\"\"\n",
        "        Metodo que carga la curva luz procesada en un archivo.\n",
        "        Parameters\n",
        "        ----------\n",
        "        Path: str = \"\"\n",
        "          ruta donde se encuentra almacenado el archivo.\n",
        "        Returns\n",
        "        ----------\n",
        "        w_loaded: LightCurveWaveletCollection\n",
        "          Clase que almacena las curvas de luz par e inpar ademas de metadata del proceso de descomposicion.\n",
        "        \"\"\"\n",
        "        with open(path, \"rb\") as f:\n",
        "            w_loaded = pickle.load(f)\n",
        "        return w_loaded\n",
        "\n",
        "    def plot_comparative(self):\n",
        "        \"\"\"\n",
        "        Metodo que imprime una comparativa entre la curva de luz par e impar..\n",
        "        Parameters\n",
        "        ----------\n",
        "        None.\n",
        "        Returns\n",
        "        ----------\n",
        "        None.\n",
        "        \"\"\"\n",
        "        light_curve_p = self.pliegue_par._light_curve\n",
        "        light_curve_i = self.pliegue_inpar._light_curve\n",
        "        w_par_Collection = self.pliegue_par\n",
        "        w_inpar_Collection = self.pliegue_inpar\n",
        "        wavelet_p=w_par_Collection.get_wavelets()\n",
        "        wavelet_i=w_inpar_Collection.get_wavelets()\n",
        "        plt.figure(figsize=(26, 8))\n",
        "        plt.plot(light_curve_p.time.value,light_curve_p.flux.value,c='blue',label='par')\n",
        "        plt.plot(light_curve_i.time.value,light_curve_i.flux.value,c='red',label='inpar')\n",
        "        \n",
        "        ig, axarr = plt.subplots(nrows=len(wavelet_p), ncols=2, figsize=(26,26))\n",
        "        for i,zip_curves in enumerate(zip(wavelet_p,wavelet_i)):\n",
        "            (data_p, coeff_p),(data_i, coeff_i) = zip_curves\n",
        "            axarr[i, 0].plot(data_p,c='blue',label='par')\n",
        "            axarr[i, 0].plot(data_i, c='red',label='inpar')\n",
        "            axarr[i, 1].plot(coeff_p, c='blue',label='par')\n",
        "            axarr[i, 1].plot(coeff_i, c='red',label='inpar')\n",
        "            axarr[i, 0].set_ylabel(\"Level {}\".format(i + 1), fontsize=14, rotation=90)\n",
        "            axarr[i, 0].set_yticklabels([])\n",
        "            if i == 0:\n",
        "                axarr[i, 0].set_title(\"Approximation coefficients\", fontsize=14)\n",
        "                axarr[i, 1].set_title(\"Detail coefficients\", fontsize=14)\n",
        "            axarr[i, 1].set_yticklabels([])\n",
        "        plt.show()\n",
        "\n",
        "\n",
        "def fold_curve(light_curve_collection, period, epoch, sigma = 20, sigma_upper = 4):\n",
        "    \"\"\"\n",
        "    Toma la coleccion de la curvas entregadas, las pliega y devuelve una sola con todos los datos.\n",
        "    \n",
        "    Parameters\n",
        "    ----------\n",
        "    light_curve_collection: LightCurveCollection\n",
        "        coleccion de curvas de luz.\n",
        "    period: float\n",
        "        periodo de la orbita.\n",
        "    epoch: float\n",
        "        tiempo de cada transcurso.\n",
        "    sigma: int\n",
        "        valor de desviaciones estandas\n",
        "    sigma_upper: int\n",
        "        valor maximo de variacion\n",
        "    Returns\n",
        "    ----------\n",
        "    una sola curva de luz\n",
        "    \"\"\"\n",
        "    if not is_colab:\n",
        "        lc_collection = lk.LightCurveCollection([lc.remove_outliers(sigma=20, sigma_upper=4) for lc in light_curve_collection])\n",
        "    \n",
        "    lc_ro = lc_collection.stitch()\n",
        "    \n",
        "    if is_colab:\n",
        "        lc_ro = lc_ro.remove_outliers(sigma=sigma, sigma_upper=sigma_upper)\n",
        "    \n",
        "    lc_nonans = lc_ro.remove_nans()\n",
        "    lc_fold = lc_nonans.fold(period = period,epoch_time = epoch)\n",
        "    lc_odd=lc_fold[lc_fold.odd_mask]\n",
        "    lc_even = lc_fold[lc_fold.even_mask]\n",
        "    return lc_fold,lc_odd,lc_even\n",
        "\n",
        "def apply_wavelet(light_curve,w_family, levels,cut_border_percent=0.1):\n",
        "    \"\"\"\n",
        "    Aplicacion de la wavelet a la curva de luz.\n",
        "    \n",
        "    Parameters\n",
        "    ----------\n",
        "    light_curve: LightCurve\n",
        "        curva de luz a la que se le aplica la wavelet.\n",
        "    w_family: str\n",
        "        nombre de la familia de wavelet a aplicar.\n",
        "    levels: int > 0\n",
        "        niveles de profundida de aplicacion.\n",
        "    Returns\n",
        "    ----------\n",
        "    lc_wavelet: [(numpy.array,numpy.array)]\n",
        "        Lista con los coeficientes de aproximacion y coeficiente de detalle.\n",
        "    \"\"\"\n",
        "    time = light_curve.time.value\n",
        "    data = light_curve.flux.value\n",
        "    lc_wavelet = []\n",
        "    for level in range(levels):\n",
        "        level_w = pywt.dwt(data, w_family)\n",
        "        lc_wavelet.append(cut_border(level_w,cut_border_percent))\n",
        "        #lc_wavelet.append(level_w)\n",
        "        data = level_w[0]\n",
        "    return LightCurveWaveletFoldCollection(light_curve,lc_wavelet)\n",
        "\n",
        "def load_light_curve(kepler_id,mission='Kepler'):\n",
        "    \"\"\"\n",
        "    Descarga de la curva de luz a patir de la mision y el id.\n",
        "    Parameters\n",
        "    ----------\n",
        "    kepler_id: int\n",
        "        identificador Kepler.\n",
        "    mission: str = 'Kepler' \n",
        "        mision que obtuvo el regiostro.\n",
        "    Returns\n",
        "    ----------\n",
        "    lc_collection: LightCurveCollection\n",
        "        Coleccion de curvas de luz.\n",
        "    \"\"\"\n",
        "    kic = 'KIC '+str(kepler_id)\n",
        "    lc_search = lk.search_lightcurve(kic, mission=mission)\n",
        "    lc_collection = lc_search.download_all()\n",
        "    return lc_collection\n",
        "\n",
        "def cut_wavelet(lightCurve,window):\n",
        "    time = lightCurve.time\n",
        "    data = lightCurve.flux\n",
        "    flux_error = lightCurve.flux_err\n",
        "    index = np.argmin(np.absolute(time))\n",
        "    min_w = index - int(window/2)\n",
        "    max_w = index + int(window/2)+1\n",
        "    time_selected = time[min_w:max_w]\n",
        "    data_selected = data[min_w:max_w]\n",
        "    flux_error_selected = flux_error[min_w:max_w]\n",
        "    return lk.lightcurve.FoldedLightCurve(time=time_selected,flux=data_selected,flux_err=flux_error_selected)\n",
        "\n",
        "def cut_border(data_old,cut_percent=0.1):\n",
        "    data_len_cut = int(len(data_old[0])*(cut_percent/2))\n",
        "    data_new = [data[data_len_cut:(len(data)-data_len_cut)] for data in data_old ]\n",
        "    return data_new\n",
        "    \n",
        "def process_light_curve(kepler_id,kepler_name,disp,period,epoch,w_family,levels,plot = False, plot_comparative=False,save=False, path=\"\",wavelet_window=None,cut_border_percent=0.2):\n",
        "    \"\"\"\n",
        "    Metodo que procesa la curva de luz para obtener sus transformadas wavelet.\n",
        "    Parameters\n",
        "    ----------\n",
        "    kepler_id: int\n",
        "        identificador Kepler.\n",
        "    period: float\n",
        "        valor correspondiente al periodo de la curva.   \n",
        "    epoch: float\n",
        "        valor correspondiente a la epoca de la curva. \n",
        "    w_family: str\n",
        "        familia de wavelet a aplicar. \n",
        "    levels: int\n",
        "        niveles de profundida para aplicar las wavelets\n",
        "    plot: boolean = False\n",
        "        imprime una grafica con los resultados de las wavelets\n",
        "    plot_comparative: boolean = False\n",
        "        imprime una grafica comparativa entre las wavelets de los diferentes niveles en curvas pares e inpares.\n",
        "    save: boolean = False\n",
        "        genera un archivo guardando la curva de luz y sus descomposiciones wavelets\n",
        "    path: str\n",
        "        ruta donde se guardara el archivo en caso de que el parametro save sea True\n",
        "    wavelet_window: int\n",
        "        tamaño de la ventana para recortar la curva de luz plegada\n",
        "    cut_border_percent: float\n",
        "        porcentaje del total de puntos a recortar del total existente en el nivel de la descomposicion wavelet.\n",
        "    Returns\n",
        "    ----------\n",
        "    lc_wavelet_collection: LightCurveWaveletCollection\n",
        "        Objeto que contiene la curva de luz y sus wavelets ademas de una cabecera con metadata del proceso.\n",
        "    \"\"\"\n",
        "    # cargamos la curva de segun su Kepler_ID\n",
        "    print(\"descargando curvas de luz...\")\n",
        "    lc_collection=load_light_curve(kepler_id)\n",
        "    # aplicamos el pliege a las curvas de luz y las separamos en pares e inpares\n",
        "    print('Aplicando pliegue y separando en pares e inpares....') \n",
        "    _,lc_inpar,lc_par = fold_curve(lc_collection,period,epoch)\n",
        "\n",
        "    if not wavelet_window == None:\n",
        "      print('Aplicando ventana ...')\n",
        "      lc_inpar = cut_wavelet(lc_inpar,wavelet_window)\n",
        "      lc_par = cut_wavelet(lc_par,wavelet_window)\n",
        "    \n",
        "    print('Aplicando wavelets...')\n",
        "    # aplicamos wavelets a curvas par\n",
        "    lc_w_par = apply_wavelet(lc_par,w_family,levels,cut_border_percent=cut_border_percent)\n",
        "    # aplicamos wavelets a curvas inpar\n",
        "    lc_w_inpar = apply_wavelet(lc_inpar,w_family,levels,cut_border_percent=cut_border_percent)\n",
        "    headers = {\n",
        "        \"period\": period,\n",
        "        \"epoch\": epoch,\n",
        "        \"class\": disp,\n",
        "        \"wavelet_family\":w_family,\n",
        "        \"levels\":levels,\n",
        "        \"window\":wavelet_window,\n",
        "        \"border_cut\":cut_border_percent,\n",
        "        \"Kepler_name\":kepler_name\n",
        "    }\n",
        "    lc_wavelet_collection = LightCurveWaveletCollection(kepler_id,headers,lc_w_par,lc_w_inpar)\n",
        "    if(plot):\n",
        "        print('graficando wavelets obtenidas...')\n",
        "        lc_w_par.plot()\n",
        "        lc_w_inpar.plot()\n",
        "    if(plot_comparative):\n",
        "        print('graficando wavelets obtenidas...')\n",
        "        lc_wavelet_collection.plot_comparative()\n",
        "    if(save):\n",
        "        print('guardando wavelets obtenidas...')\n",
        "        lc_wavelet_collection.save(path)\n",
        "    return lc_wavelet_collection\n",
        "\n",
        "def process_dataset(df_koi,plot = False, plot_comparative = False,repeat_completed=True,completed=None):\n",
        "    \"\"\"\n",
        "    Metodo que procesa el dataframe de curvas de luz para obtener sus transformadas wavelet.\n",
        "    Parameters\n",
        "    ----------\n",
        "    df_koi: pandas.DataFrame\n",
        "        Dataset con los datos de las curvas de luz a procesar.\n",
        "    plot: boolean = False\n",
        "        Imprime las curvas de luz y sus descomposiciones.\n",
        "    plot_comparative: boolean = False:\n",
        "        Imprime una comparativa entre la curva de luz par e impar con sus descomposiciones\n",
        "    repeat_completed: boolean = True\n",
        "        Reprocesa las curvas de luz que ya se encuentran procesadas y almacenadas. (Se ocupa para recalcular curvas de procesos anteriores incompletos)\n",
        "    completed: List = None\n",
        "        Lista con las curvas de luz completadas de proceso anteriores. \n",
        "    Returns\n",
        "    ----------\n",
        "    lc_errors: List <int>\n",
        "        Lista con las curvas de luz que no se pudieron procesar.\n",
        "    \"\"\"\n",
        "    lc_wavelets = dict()\n",
        "    lc_errors = []\n",
        "    for i in range (len(df_koi)):\n",
        "\n",
        "        koi_id,koi_name,disp, period, epoch=df_koi[['kepid','kepoi_name','koi_disposition','koi_period','koi_time0bk']].iloc[i]\n",
        "        percent = i*100/(len(df_koi))\n",
        "        print(f'procesando curva de luz KIC {int(koi_id)}-{koi_name}[{disp}] [{percent:.0f}%]')\n",
        "        if not repeat_completed and (str(koi_id)+\"-\"+koi_name) in completed:\n",
        "          print(\"curva de luz procesada anteriormente\")\n",
        "          continue\n",
        "        try:\n",
        "            process_light_curve(int(koi_id),koi_name,disp,period,epoch,wavelet_family,level,plot= plot,plot_comparative=plot_comparative,save = save_lc, path = save_path,wavelet_window=wavelet_windows)\n",
        "            pass\n",
        "        except:\n",
        "            lc_errors.append(koi_id)\n",
        "            print(f'Error with KIC {koi_id}')\n",
        "    f = open (save_path+'errors.txt','w')\n",
        "    for lc_error in lc_errors:\n",
        "        text = 'KIC '+str(lc_error)+'\\n'\n",
        "        f.write(text)\n",
        "    f.close()\n",
        "    return lc_errors\n",
        "    "
      ]
    },
    {
      "cell_type": "code",
      "execution_count": null,
      "id": "816dcfbc",
      "metadata": {
        "id": "816dcfbc"
      },
      "outputs": [],
      "source": [
        "result_window_out = process_light_curve(kep_id,\"\",disp,period,epoch,wavelet_family,level,plot_comparative=False)\n",
        "result_window = process_light_curve(kep_id,\"\",disp,period,epoch,wavelet_family,level,plot_comparative=False,wavelet_window=15000)\n",
        "result_window_2 = process_light_curve(kep_id_2,\"\",disp_2,period_2,epoch_2,wavelet_family,level,plot_comparative=False,wavelet_window=15000)"
      ]
    },
    {
      "cell_type": "code",
      "execution_count": null,
      "id": "5igZaXUfEdnh",
      "metadata": {
        "id": "5igZaXUfEdnh"
      },
      "outputs": [],
      "source": [
        "result_window.plot_comparative()\n",
        "result_window_2.plot_comparative()"
      ]
    },
    {
      "cell_type": "code",
      "execution_count": null,
      "id": "p2ITN8cL05rb",
      "metadata": {
        "id": "p2ITN8cL05rb"
      },
      "outputs": [],
      "source": [
        "app_c_1_p = result_window.pliegue_par.get_approximation_coefficent(level=5)\n",
        "app_c_2_p = result_window_2.pliegue_par.get_approximation_coefficent(level=5)\n",
        "\n",
        "app_c_1_i = result_window.pliegue_inpar.get_approximation_coefficent(level=5)\n",
        "app_c_2_i = result_window_2.pliegue_inpar.get_approximation_coefficent(level=5)\n",
        "\n",
        "print(np.shape(app_c_1_p))\n",
        "print(np.shape(app_c_2_p))\n",
        "print(np.shape(app_c_1_i))\n",
        "print(np.shape(app_c_2_i))\n",
        "plt.plot(app_c_1_p,c='r')\n",
        "plt.plot(app_c_1_i,c='b')\n",
        "plt.show()\n",
        "plt.plot(app_c_2_p,c='r')\n",
        "plt.plot(app_c_2_i,c='b')"
      ]
    },
    {
      "cell_type": "markdown",
      "id": "mZqsK9483IEu",
      "metadata": {
        "id": "mZqsK9483IEu"
      },
      "source": [
        "# Ejecucion y trabajo sobre las curvas de luz en el dataset"
      ]
    },
    {
      "cell_type": "code",
      "execution_count": null,
      "id": "07c94f62",
      "metadata": {
        "id": "07c94f62"
      },
      "outputs": [],
      "source": [
        "errores = process_dataset(df,repeat_completed=False, completed=completed_id)"
      ]
    },
    {
      "cell_type": "code",
      "execution_count": null,
      "id": "4hXwVSlmipvc",
      "metadata": {
        "id": "4hXwVSlmipvc"
      },
      "outputs": [],
      "source": [
        "errores"
      ]
    },
    {
      "cell_type": "code",
      "execution_count": null,
      "id": "mwDAjaCa7U7X",
      "metadata": {
        "id": "mwDAjaCa7U7X"
      },
      "outputs": [],
      "source": [
        "all_kep_id = df[\"kepid\"]\n",
        "\n",
        "result = dict({\"completado\":0,\"faltante\":0})\n",
        "faltantes = []\n",
        "for kep_id in all_kep_id:\n",
        "  if str(kep_id) in completed_id:\n",
        "    result[\"completado\"]+=1\n",
        "  else:\n",
        "    result[\"faltante\"]+=1\n",
        "    faltantes.append(kep_id)\n",
        "\n",
        "print(result)\n",
        "print(faltantes)\n",
        "len(completed_id)"
      ]
    },
    {
      "cell_type": "code",
      "execution_count": null,
      "id": "9dc4ab5f",
      "metadata": {
        "id": "9dc4ab5f"
      },
      "outputs": [],
      "source": [
        "path = save_path + completed[1]\n",
        "print(path)\n",
        "lcwC =  LightCurveWaveletCollection.load(path)\n",
        "lcwC.headers\n",
        "lcwC.plot_comparative()"
      ]
    },
    {
      "cell_type": "markdown",
      "id": "ZUrpcLzfzKFL",
      "metadata": {
        "id": "ZUrpcLzfzKFL"
      },
      "source": [
        "# Visualizacion de curvas de luz"
      ]
    },
    {
      "cell_type": "code",
      "execution_count": null,
      "id": "qgDDaX3D78_b",
      "metadata": {
        "id": "qgDDaX3D78_b"
      },
      "outputs": [],
      "source": [
        "selected = completed_id[2]\n",
        "lc_name = 'kic '+str(selected)+'.pickle'\n",
        "file_name = save_path+lc_name\n",
        "lc = LightCurveWaveletCollection.load(file_name)\n",
        "for i in range (0,10):\n",
        "  lc_p = lc.pliegue_par.get_approximation_coefficent(level=i)\n",
        "  lc_i = lc.pliegue_inpar.get_approximation_coefficent(level=i)\n",
        "  print(f\"[{i}]par: {len(lc_p)}, inpar: {len(lc_i)}\")"
      ]
    },
    {
      "cell_type": "code",
      "execution_count": null,
      "id": "SGmklIJKpkNQ",
      "metadata": {
        "id": "SGmklIJKpkNQ"
      },
      "outputs": [],
      "source": [
        "for lc_id in completed_id[:50]:\n",
        "    lc_name = 'kic '+str(lc_id)+'.pickle'\n",
        "    file_name = save_path+lc_name\n",
        "    lc = LightCurveWaveletCollection.load(file_name)\n",
        "    lc.plot_comparative()"
      ]
    },
    {
      "cell_type": "code",
      "execution_count": null,
      "id": "pLmwXTuGzI3q",
      "metadata": {
        "id": "pLmwXTuGzI3q"
      },
      "outputs": [],
      "source": [
        "def plot_level_lc(level = 7 ,amount = 50):\n",
        "  for lc_id in completed_id[:amount]:\n",
        "    lc_name = 'kic '+str(lc_id)+'.pickle'\n",
        "    file_name = save_path+lc_name\n",
        "    lc = LightCurveWaveletCollection.load(file_name)\n",
        "    lc_p = lc.pliegue_par.get_approximation_coefficent(level=level)\n",
        "    lc_i = lc.pliegue_inpar.get_approximation_coefficent(level=level)\n",
        "    plt.rcParams[\"figure.figsize\"] = (20,3)\n",
        "    plt.plot(lc_p,c=\"r\")\n",
        "    plt.plot(lc_i,c=\"b\")\n",
        "    plt.title(lc_name+\":\"+lc.headers['class'])\n",
        "    plt.show()\n",
        "\n",
        "def plot_level_lc_2(levels = [7] ,amount = 50):\n",
        "  for lc_id in completed_id[:amount]:\n",
        "    lc_name = 'kic '+str(lc_id)+'.pickle'\n",
        "    file_name = save_path+lc_name\n",
        "    lc = LightCurveWaveletCollection.load(file_name)\n",
        "    lc_p =[ lc.pliegue_par.get_approximation_coefficent(level=level) for level in levels ]\n",
        "    lc_i =[ lc.pliegue_inpar.get_approximation_coefficent(level=level) for level in levels ]\n",
        "    \n",
        "    ig, axarr = plt.subplots(nrows=1, ncols=len(levels), figsize=(26,26))\n",
        "    for i in range(len(levels)):\n",
        "      axarr[i].plot(lc_p,c='blue',label='par')\n",
        "      axarr[i].plot(lc_i,c='blue',label='inpar')\n",
        "      axarr[i].set_title(\"level:\"+levels[i], fontsize=14)\n",
        "    plt.title(lc_name+\":\"+lc.headers['class'])\n",
        "    plt.show()"
      ]
    },
    {
      "cell_type": "code",
      "execution_count": null,
      "id": "SbmwOIPf1xy_",
      "metadata": {
        "id": "SbmwOIPf1xy_"
      },
      "outputs": [],
      "source": [
        "plot_level_lc()"
      ]
    },
    {
      "cell_type": "code",
      "execution_count": null,
      "id": "SzilWyJj165I",
      "metadata": {
        "id": "SzilWyJj165I"
      },
      "outputs": [],
      "source": [
        "plot_level_lc(level=6)"
      ]
    },
    {
      "cell_type": "code",
      "execution_count": null,
      "id": "SiSt6eu12RNf",
      "metadata": {
        "id": "SiSt6eu12RNf"
      },
      "outputs": [],
      "source": [
        "plot_level_lc(level=8)"
      ]
    }
  ],
  "metadata": {
    "colab": {
      "collapsed_sections": [
        "ZUrpcLzfzKFL"
      ],
      "provenance": []
    },
    "kernelspec": {
      "display_name": "Python 3 (ipykernel)",
      "language": "python",
      "name": "python3"
    },
    "language_info": {
      "codemirror_mode": {
        "name": "ipython",
        "version": 3
      },
      "file_extension": ".py",
      "mimetype": "text/x-python",
      "name": "python",
      "nbconvert_exporter": "python",
      "pygments_lexer": "ipython3",
      "version": "3.9.7"
    }
  },
  "nbformat": 4,
  "nbformat_minor": 5
}
